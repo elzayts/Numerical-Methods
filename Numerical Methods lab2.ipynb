{
 "cells": [
  {
   "cell_type": "code",
   "execution_count": 12,
   "metadata": {},
   "outputs": [
    {
     "name": "stdout",
     "output_type": "stream",
     "text": [
      "[1, 1.05, 1.1]\n",
      "[0, -0.0526, -0.1108]\n",
      "[-3.4324837739433276, -6.100881488736535, 3.1599827201382387]\n",
      "[1, 1.05, 1.1, 1.15, 1.2, 1.25, 1.3, 1.35, 1.4, 1.45, 1.5, 1.55]\n",
      "[0, -0.0526, -0.1108, -0.1817, -0.2621, -0.3545, -0.463, -0.5952, -0.7683, -1.0416, -2.8889, -2.5996]\n"
     ]
    }
   ],
   "source": [
    "h=0.05\n",
    "x_list=[1]\n",
    "y_list=[0]\n",
    "\n",
    "def func(x,y):\n",
    "    a=(y-x)/(y+x)\n",
    "    return(a)\n",
    "\n",
    "for i in range(1,3):\n",
    "    k1=h*func(x_list[i-1], y_list[i-1])\n",
    "    k2=h*func(x_list[i-1]+h/2, y_list[i-1]+k1/2)\n",
    "    k3 = h*func(x_list[i-1] + h / 2, y_list[i-1] + k2 / 2)\n",
    "    k4 = h*func(x_list[i-1] + h, y_list[i-1] + k3)\n",
    "    y=y_list[i-1]+1/6*(k1+2*k2+2*k3+k4)\n",
    "    y_list.append(y)\n",
    "    x=x_list[i-1]+h\n",
    "    x_list.append(x)\n",
    "    y_list=[round(a,4) for a in y_list]\n",
    "    x_list=[round(a,4) for a in x_list]\n",
    "\n",
    "\n",
    "print(x_list)\n",
    "print(y_list)\n",
    "\n",
    "while(x_list[-1]<=1.5):\n",
    "      y_htrix=[func(a,b) for a, b in zip(x_list[-3:], y_list[-3:])]\n",
    "      delta1=[]\n",
    "      delta2=[]\n",
    "      delta1.append(h*(y_htrix[1]-y_htrix[0]))\n",
    "      delta1.append(h*(y_htrix[2]-y_htrix[1]))\n",
    "      delta2.append(delta1[1]-delta1[0])\n",
    "      deltay=h*y_htrix[2]+1/12*delta1[1]+5/12*delta2[0]\n",
    "      ynew=y_list[-1]+deltay\n",
    "      x_list.append(x_list[-1]+h)\n",
    "\n",
    "      yhtrix=func(x_list[-1], ynew)\n",
    "      delta1.append(h*(yhtrix-y_htrix[2]))\n",
    "      delta2.append(delta1[2]-delta1[1])\n",
    "\n",
    "      dely=h*yhtrix+1/2*delta1[2]-1/12*delta2[1]\n",
    "\n",
    "      y_list.append(y_list[-1]+dely)\n",
    "      y_list = [round(a, 4) for a in y_list]\n",
    "      x_list = [round(a, 4) for a in x_list]\n",
    "\n",
    "print(y_htrix)\n",
    "\n",
    "print(x_list)\n",
    "print(y_list)"
   ]
  },
  {
   "cell_type": "code",
   "execution_count": 13,
   "metadata": {},
   "outputs": [
    {
     "data": {
      "text/plain": [
       "[<matplotlib.lines.Line2D at 0x1cfd6c3f388>]"
      ]
     },
     "execution_count": 13,
     "metadata": {},
     "output_type": "execute_result"
    },
    {
     "data": {
      "image/png": "[encoded data removed]",
      "text/plain": [
       "<Figure size 432x288 with 1 Axes>"
      ]
     },
     "metadata": {},
     "output_type": "display_data"
    }
   ],
   "source": [
    "import matplotlib.pyplot as plt\n",
    "plt.style.use('seaborn-whitegrid')\n",
    "import numpy as np\n",
    "plt.plot(x_list, y_list, 'o', color='black')"
   ]
  },
  {
   "cell_type": "code",
   "execution_count": null,
   "metadata": {},
   "outputs": [],
   "source": []
  }
 ],
 "metadata": {
  "kernelspec": {
   "display_name": "Python 3",
   "language": "python",
   "name": "python3"
  },
  "language_info": {
   "codemirror_mode": {
    "name": "ipython",
    "version": 3
   },
   "file_extension": ".py",
   "mimetype": "text/x-python",
   "name": "python",
   "nbconvert_exporter": "python",
   "pygments_lexer": "ipython3",
   "version": "3.7.4"
  }
 },
 "nbformat": 4,
 "nbformat_minor": 2
}
